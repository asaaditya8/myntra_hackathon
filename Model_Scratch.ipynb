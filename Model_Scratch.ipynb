{
 "cells": [
  {
   "cell_type": "code",
   "execution_count": 1,
   "metadata": {},
   "outputs": [
    {
     "name": "stderr",
     "output_type": "stream",
     "text": [
      "Using TensorFlow backend.\n"
     ]
    }
   ],
   "source": [
    "## Importing Libraries\n",
    "import numpy as np\n",
    "import pandas as pd\n",
    "import sklearn\n",
    "import matplotlib.pyplot as plt\n",
    "import keras"
   ]
  },
  {
   "cell_type": "code",
   "execution_count": 2,
   "metadata": {},
   "outputs": [],
   "source": [
    "train=pd.read_csv(\"Data/myntra_train_dataset.csv\")\n",
    "test=pd.read_csv(\"Data/myntra_test.csv\")"
   ]
  },
  {
   "cell_type": "code",
   "execution_count": null,
   "metadata": {},
   "outputs": [],
   "source": []
  },
  {
   "cell_type": "code",
   "execution_count": null,
   "metadata": {},
   "outputs": [],
   "source": []
  },
  {
   "cell_type": "code",
   "execution_count": null,
   "metadata": {},
   "outputs": [],
   "source": []
  },
  {
   "cell_type": "code",
   "execution_count": null,
   "metadata": {},
   "outputs": [],
   "source": []
  },
  {
   "cell_type": "code",
   "execution_count": 5,
   "metadata": {
    "collapsed": true
   },
   "outputs": [],
   "source": [
    "X_train=np.load(\"Train_64_64.npy\")"
   ]
  },
  {
   "cell_type": "code",
   "execution_count": 6,
   "metadata": {},
   "outputs": [
    {
     "data": {
      "text/plain": [
       "(69897, 64, 64, 3)"
      ]
     },
     "execution_count": 6,
     "metadata": {},
     "output_type": "execute_result"
    }
   ],
   "source": [
    "X_train.shape"
   ]
  },
  {
   "cell_type": "code",
   "execution_count": 7,
   "metadata": {
    "collapsed": true
   },
   "outputs": [],
   "source": [
    "X_test=np.load(\"Test_64_64.npy\")"
   ]
  },
  {
   "cell_type": "code",
   "execution_count": 8,
   "metadata": {},
   "outputs": [
    {
     "data": {
      "text/plain": [
       "(14952, 64, 64, 3)"
      ]
     },
     "execution_count": 8,
     "metadata": {},
     "output_type": "execute_result"
    }
   ],
   "source": [
    "X_test.shape"
   ]
  },
  {
   "cell_type": "code",
   "execution_count": 15,
   "metadata": {
    "collapsed": true
   },
   "outputs": [],
   "source": [
    "mean_img=np.mean(X_train,axis=0)\n",
    "std_img=np.std(X_train,axis=0)\n",
    "X_train_norm=(X_train-mean_img)/std_img\n",
    "X_test_norm=(X_test-mean_img)/std_img"
   ]
  },
  {
   "cell_type": "code",
   "execution_count": 12,
   "metadata": {
    "collapsed": true
   },
   "outputs": [],
   "source": [
    "train=pd.read_csv(\"Cleaned_Train_Data.csv\")"
   ]
  },
  {
   "cell_type": "code",
   "execution_count": 13,
   "metadata": {},
   "outputs": [
    {
     "data": {
      "text/html": [
       "<div>\n",
       "<style>\n",
       "    .dataframe thead tr:only-child th {\n",
       "        text-align: right;\n",
       "    }\n",
       "\n",
       "    .dataframe thead th {\n",
       "        text-align: left;\n",
       "    }\n",
       "\n",
       "    .dataframe tbody tr th {\n",
       "        vertical-align: top;\n",
       "    }\n",
       "</style>\n",
       "<table border=\"1\" class=\"dataframe\">\n",
       "  <thead>\n",
       "    <tr style=\"text-align: right;\">\n",
       "      <th></th>\n",
       "      <th>Unnamed: 0</th>\n",
       "      <th>Brand</th>\n",
       "      <th>Category</th>\n",
       "      <th>Gender</th>\n",
       "      <th>Color</th>\n",
       "      <th>Image_Names</th>\n",
       "      <th>Sub_category</th>\n",
       "    </tr>\n",
       "  </thead>\n",
       "  <tbody>\n",
       "    <tr>\n",
       "      <th>0</th>\n",
       "      <td>0_Graphic.jpg</td>\n",
       "      <td>Roadster</td>\n",
       "      <td>Tshirts</td>\n",
       "      <td>Men</td>\n",
       "      <td>Black</td>\n",
       "      <td>0_Graphic.jpg</td>\n",
       "      <td>Graphic</td>\n",
       "    </tr>\n",
       "    <tr>\n",
       "      <th>1</th>\n",
       "      <td>1_Graphic.jpg</td>\n",
       "      <td>Roadster</td>\n",
       "      <td>Tshirts</td>\n",
       "      <td>Men</td>\n",
       "      <td>Black</td>\n",
       "      <td>1_Graphic.jpg</td>\n",
       "      <td>Graphic</td>\n",
       "    </tr>\n",
       "  </tbody>\n",
       "</table>\n",
       "</div>"
      ],
      "text/plain": [
       "      Unnamed: 0     Brand Category Gender  Color    Image_Names Sub_category\n",
       "0  0_Graphic.jpg  Roadster  Tshirts    Men  Black  0_Graphic.jpg      Graphic\n",
       "1  1_Graphic.jpg  Roadster  Tshirts    Men  Black  1_Graphic.jpg      Graphic"
      ]
     },
     "execution_count": 13,
     "metadata": {},
     "output_type": "execute_result"
    }
   ],
   "source": [
    "train.head(2)"
   ]
  },
  {
   "cell_type": "code",
   "execution_count": 16,
   "metadata": {
    "collapsed": true
   },
   "outputs": [],
   "source": [
    "labels= train['Sub_category'].tolist()\n",
    "Y_train = {k:v+1 for v,k in enumerate(set(labels))}\n",
    "y_train = [Y_train[k] for k in labels]\n",
    "from keras.utils import to_categorical\n",
    "y_train = to_categorical(y_train)"
   ]
  },
  {
   "cell_type": "code",
   "execution_count": null,
   "metadata": {
    "collapsed": true
   },
   "outputs": [],
   "source": []
  },
  {
   "cell_type": "code",
   "execution_count": null,
   "metadata": {
    "collapsed": true
   },
   "outputs": [],
   "source": []
  },
  {
   "cell_type": "code",
   "execution_count": null,
   "metadata": {
    "collapsed": true
   },
   "outputs": [],
   "source": []
  },
  {
   "cell_type": "code",
   "execution_count": null,
   "metadata": {
    "collapsed": true
   },
   "outputs": [],
   "source": []
  },
  {
   "cell_type": "code",
   "execution_count": null,
   "metadata": {
    "collapsed": true
   },
   "outputs": [],
   "source": []
  },
  {
   "cell_type": "code",
   "execution_count": null,
   "metadata": {
    "collapsed": true
   },
   "outputs": [],
   "source": []
  },
  {
   "cell_type": "code",
   "execution_count": null,
   "metadata": {
    "collapsed": true
   },
   "outputs": [],
   "source": []
  },
  {
   "cell_type": "code",
   "execution_count": 9,
   "metadata": {
    "collapsed": true
   },
   "outputs": [],
   "source": [
    "from keras.utils import to_categorical\n",
    "from keras.models import Sequential\n",
    "from keras.layers import Dense, Dropout, Flatten, Convolution2D, MaxPooling2D\n",
    "from keras.callbacks import EarlyStopping"
   ]
  },
  {
   "cell_type": "code",
   "execution_count": 17,
   "metadata": {},
   "outputs": [
    {
     "name": "stdout",
     "output_type": "stream",
     "text": [
      "WARNING:tensorflow:From /home/met/ug/14145059/anaconda3/envs/deeplearning/lib/python3.6/site-packages/keras/backend/tensorflow_backend.py:2885: calling reduce_sum (from tensorflow.python.ops.math_ops) with keep_dims is deprecated and will be removed in a future version.\n",
      "Instructions for updating:\n",
      "keep_dims is deprecated, use keepdims instead\n",
      "WARNING:tensorflow:From /home/met/ug/14145059/anaconda3/envs/deeplearning/lib/python3.6/site-packages/keras/backend/tensorflow_backend.py:1349: calling reduce_mean (from tensorflow.python.ops.math_ops) with keep_dims is deprecated and will be removed in a future version.\n",
      "Instructions for updating:\n",
      "keep_dims is deprecated, use keepdims instead\n"
     ]
    }
   ],
   "source": [
    "model = Sequential()\n",
    "model.add(Convolution2D(32, (3,3), activation='relu', padding='same',input_shape = (64,64,3))) # if you resize the image above, change the shape\n",
    "model.add(Convolution2D(32, (3,3), activation='relu'))\n",
    "model.add(MaxPooling2D(pool_size=(2,2)))\n",
    "\n",
    "model.add(Convolution2D(64, (3,3), activation='relu', padding='same'))\n",
    "model.add(Convolution2D(64, (3,3), activation='relu'))\n",
    "model.add(MaxPooling2D(pool_size=(2,2)))\n",
    "model.add(Dropout(0.25))\n",
    "\n",
    "model.add(Convolution2D(128, (3,3), activation='relu', padding='same'))\n",
    "model.add(Convolution2D(128, (3,3), activation='relu'))\n",
    "model.add(MaxPooling2D(pool_size=(2,2)))\n",
    "model.add(Dropout(0.25))\n",
    "\n",
    "model.add(Flatten())\n",
    "model.add(Dense(128, activation='relu'))\n",
    "model.add(Dense(256, activation='relu'))\n",
    "model.add(Dropout(0.25))\n",
    "model.add(Dense(y_train.shape[1], activation='softmax'))\n",
    "model.compile(loss = 'categorical_crossentropy', optimizer = 'adam', metrics = ['accuracy'])"
   ]
  },
  {
   "cell_type": "code",
   "execution_count": 18,
   "metadata": {},
   "outputs": [
    {
     "name": "stdout",
     "output_type": "stream",
     "text": [
      "Train on 48927 samples, validate on 20970 samples\n",
      "Epoch 1/10\n",
      "48927/48927 [==============================] - 500s 10ms/step - loss: 1.8733 - acc: 0.4745 - val_loss: 1.6680 - val_acc: 0.5349\n",
      "Epoch 2/10\n",
      "48927/48927 [==============================] - 298s 6ms/step - loss: 1.5035 - acc: 0.5810 - val_loss: 1.5556 - val_acc: 0.5573\n",
      "Epoch 3/10\n",
      "48927/48927 [==============================] - 300s 6ms/step - loss: 1.4050 - acc: 0.6037 - val_loss: 1.5052 - val_acc: 0.5722\n",
      "Epoch 4/10\n",
      "48927/48927 [==============================] - 300s 6ms/step - loss: 1.3389 - acc: 0.6191 - val_loss: 1.5121 - val_acc: 0.5750\n",
      "Epoch 5/10\n",
      "48927/48927 [==============================] - 300s 6ms/step - loss: 1.2781 - acc: 0.6337 - val_loss: 1.5090 - val_acc: 0.5655\n",
      "Epoch 6/10\n",
      "48927/48927 [==============================] - 313s 6ms/step - loss: 1.2238 - acc: 0.6478 - val_loss: 1.5309 - val_acc: 0.5751\n",
      "Epoch 7/10\n",
      "48927/48927 [==============================] - 298s 6ms/step - loss: 1.1720 - acc: 0.6599 - val_loss: 1.5346 - val_acc: 0.5729\n",
      "Epoch 8/10\n",
      "48927/48927 [==============================] - 298s 6ms/step - loss: 1.1376 - acc: 0.6648 - val_loss: 1.5683 - val_acc: 0.5735\n",
      "Epoch 9/10\n",
      "48927/48927 [==============================] - 299s 6ms/step - loss: 1.0882 - acc: 0.6781 - val_loss: 1.6267 - val_acc: 0.5567\n"
     ]
    },
    {
     "data": {
      "text/plain": [
       "<keras.callbacks.History at 0x7f884f816400>"
      ]
     },
     "execution_count": 18,
     "metadata": {},
     "output_type": "execute_result"
    }
   ],
   "source": [
    "early_stops = EarlyStopping(patience=3, monitor='val_acc')\n",
    "model.fit(X_train_norm, y_train, batch_size=100, epochs=10, validation_split=0.3, callbacks=[early_stops])"
   ]
  },
  {
   "cell_type": "code",
   "execution_count": 19,
   "metadata": {
    "collapsed": true
   },
   "outputs": [],
   "source": [
    "predictions=model.predict(X_test_norm)"
   ]
  },
  {
   "cell_type": "code",
   "execution_count": 24,
   "metadata": {
    "collapsed": true
   },
   "outputs": [],
   "source": [
    "predictions=np.argmax(predictions,axis=1)"
   ]
  },
  {
   "cell_type": "code",
   "execution_count": 25,
   "metadata": {
    "collapsed": true
   },
   "outputs": [],
   "source": [
    "y_maps = dict()\n",
    "y_maps = {v:k for k, v in Y_train.items()}\n",
    "pred_labels = [y_maps[k] for k in predictions]"
   ]
  },
  {
   "cell_type": "markdown",
   "metadata": {},
   "source": [
    "## Submission"
   ]
  },
  {
   "cell_type": "code",
   "execution_count": 26,
   "metadata": {
    "collapsed": true
   },
   "outputs": [],
   "source": [
    "test=pd.read_csv(\"Cleaned_Test_Data.csv\")"
   ]
  },
  {
   "cell_type": "code",
   "execution_count": 27,
   "metadata": {},
   "outputs": [
    {
     "data": {
      "text/html": [
       "<div>\n",
       "<style>\n",
       "    .dataframe thead tr:only-child th {\n",
       "        text-align: right;\n",
       "    }\n",
       "\n",
       "    .dataframe thead th {\n",
       "        text-align: left;\n",
       "    }\n",
       "\n",
       "    .dataframe tbody tr th {\n",
       "        vertical-align: top;\n",
       "    }\n",
       "</style>\n",
       "<table border=\"1\" class=\"dataframe\">\n",
       "  <thead>\n",
       "    <tr style=\"text-align: right;\">\n",
       "      <th></th>\n",
       "      <th>Brand</th>\n",
       "      <th>Category</th>\n",
       "      <th>Gender</th>\n",
       "      <th>Color</th>\n",
       "      <th>Image_Names</th>\n",
       "    </tr>\n",
       "  </thead>\n",
       "  <tbody>\n",
       "    <tr>\n",
       "      <th>0</th>\n",
       "      <td>Allen Solly</td>\n",
       "      <td>Tshirts</td>\n",
       "      <td>Men</td>\n",
       "      <td>Red</td>\n",
       "      <td>0.jpg</td>\n",
       "    </tr>\n",
       "    <tr>\n",
       "      <th>1</th>\n",
       "      <td>Celio</td>\n",
       "      <td>Tshirts</td>\n",
       "      <td>Men</td>\n",
       "      <td>Yellow</td>\n",
       "      <td>1.jpg</td>\n",
       "    </tr>\n",
       "  </tbody>\n",
       "</table>\n",
       "</div>"
      ],
      "text/plain": [
       "         Brand Category Gender   Color Image_Names\n",
       "0  Allen Solly  Tshirts    Men     Red       0.jpg\n",
       "1        Celio  Tshirts    Men  Yellow       1.jpg"
      ]
     },
     "execution_count": 27,
     "metadata": {},
     "output_type": "execute_result"
    }
   ],
   "source": [
    "test.head(2)"
   ]
  },
  {
   "cell_type": "code",
   "execution_count": 32,
   "metadata": {
    "collapsed": true
   },
   "outputs": [],
   "source": [
    "df_sub=pd.DataFrame({\"Image_Names\":test[\"Image_Names\"],\"Brand\":test[\"Brand\"],\"Label\":pred_labels})"
   ]
  },
  {
   "cell_type": "code",
   "execution_count": 33,
   "metadata": {
    "collapsed": true
   },
   "outputs": [],
   "source": [
    "sub=pd.read_csv(\"Data/Submission_online.csv\")"
   ]
  },
  {
   "cell_type": "code",
   "execution_count": 34,
   "metadata": {},
   "outputs": [
    {
     "data": {
      "text/html": [
       "<div>\n",
       "<style>\n",
       "    .dataframe thead tr:only-child th {\n",
       "        text-align: right;\n",
       "    }\n",
       "\n",
       "    .dataframe thead th {\n",
       "        text-align: left;\n",
       "    }\n",
       "\n",
       "    .dataframe tbody tr th {\n",
       "        vertical-align: top;\n",
       "    }\n",
       "</style>\n",
       "<table border=\"1\" class=\"dataframe\">\n",
       "  <thead>\n",
       "    <tr style=\"text-align: right;\">\n",
       "      <th></th>\n",
       "      <th>Brand</th>\n",
       "      <th>Category</th>\n",
       "      <th>Gender</th>\n",
       "      <th>Color</th>\n",
       "      <th>Link_to_the_image</th>\n",
       "      <th>Sub_category</th>\n",
       "    </tr>\n",
       "  </thead>\n",
       "  <tbody>\n",
       "    <tr>\n",
       "      <th>0</th>\n",
       "      <td>Allen Solly</td>\n",
       "      <td>Tshirts</td>\n",
       "      <td>Men</td>\n",
       "      <td>Red</td>\n",
       "      <td>http://myntra.myntassets.com/assets/images/182...</td>\n",
       "      <td>NaN</td>\n",
       "    </tr>\n",
       "    <tr>\n",
       "      <th>1</th>\n",
       "      <td>Celio</td>\n",
       "      <td>Tshirts</td>\n",
       "      <td>Men</td>\n",
       "      <td>Yellow</td>\n",
       "      <td>http://myntra.myntassets.com/assets/images/109...</td>\n",
       "      <td>NaN</td>\n",
       "    </tr>\n",
       "    <tr>\n",
       "      <th>2</th>\n",
       "      <td>CULT FICTION</td>\n",
       "      <td>Tshirts</td>\n",
       "      <td>Men</td>\n",
       "      <td>Rust</td>\n",
       "      <td>http://myntra.myntassets.com/assets/images/159...</td>\n",
       "      <td>NaN</td>\n",
       "    </tr>\n",
       "    <tr>\n",
       "      <th>3</th>\n",
       "      <td>Antigravity</td>\n",
       "      <td>Tshirts</td>\n",
       "      <td>Women</td>\n",
       "      <td>Blue</td>\n",
       "      <td>http://myntra.myntassets.com/assets/images/185...</td>\n",
       "      <td>NaN</td>\n",
       "    </tr>\n",
       "    <tr>\n",
       "      <th>4</th>\n",
       "      <td>Being Human</td>\n",
       "      <td>Tshirts</td>\n",
       "      <td>Men</td>\n",
       "      <td>Charcoal</td>\n",
       "      <td>http://myntra.myntassets.com/assets/images/100...</td>\n",
       "      <td>NaN</td>\n",
       "    </tr>\n",
       "  </tbody>\n",
       "</table>\n",
       "</div>"
      ],
      "text/plain": [
       "          Brand Category Gender     Color  \\\n",
       "0   Allen Solly  Tshirts    Men       Red   \n",
       "1         Celio  Tshirts    Men    Yellow   \n",
       "2  CULT FICTION  Tshirts    Men      Rust   \n",
       "3   Antigravity  Tshirts  Women      Blue   \n",
       "4   Being Human  Tshirts    Men  Charcoal   \n",
       "\n",
       "                                   Link_to_the_image  Sub_category  \n",
       "0  http://myntra.myntassets.com/assets/images/182...           NaN  \n",
       "1  http://myntra.myntassets.com/assets/images/109...           NaN  \n",
       "2  http://myntra.myntassets.com/assets/images/159...           NaN  \n",
       "3  http://myntra.myntassets.com/assets/images/185...           NaN  \n",
       "4  http://myntra.myntassets.com/assets/images/100...           NaN  "
      ]
     },
     "execution_count": 34,
     "metadata": {},
     "output_type": "execute_result"
    }
   ],
   "source": [
    "sub.head()"
   ]
  },
  {
   "cell_type": "code",
   "execution_count": 41,
   "metadata": {
    "collapsed": true
   },
   "outputs": [],
   "source": [
    "test[\"Sub_category\"]=pred_labels"
   ]
  },
  {
   "cell_type": "code",
   "execution_count": 52,
   "metadata": {
    "collapsed": true
   },
   "outputs": [],
   "source": [
    "sub_2=pd.merge(sub,test,on=[\"Brand\",\"Category\",\"Gender\",\"Color\",]).iloc[:15000,]"
   ]
  },
  {
   "cell_type": "code",
   "execution_count": 53,
   "metadata": {},
   "outputs": [
    {
     "data": {
      "text/plain": [
       "Index(['Brand', 'Category', 'Gender', 'Color', 'Link_to_the_image',\n",
       "       'Sub_category_x', 'Image_Names', 'Sub_category_y'],\n",
       "      dtype='object')"
      ]
     },
     "execution_count": 53,
     "metadata": {},
     "output_type": "execute_result"
    }
   ],
   "source": [
    "sub_2.columns"
   ]
  },
  {
   "cell_type": "code",
   "execution_count": 55,
   "metadata": {
    "collapsed": true
   },
   "outputs": [],
   "source": [
    "sub_2=sub_2[['Brand', 'Category', 'Gender', 'Color', 'Link_to_the_image','Sub_category_y']]"
   ]
  },
  {
   "cell_type": "code",
   "execution_count": 57,
   "metadata": {
    "collapsed": true
   },
   "outputs": [],
   "source": [
    "sub_2.rename(columns={\"Sub_category_y\":\"Sub_category\"},inplace=True)"
   ]
  },
  {
   "cell_type": "code",
   "execution_count": 58,
   "metadata": {
    "collapsed": true
   },
   "outputs": [],
   "source": [
    "sub_2.to_csv(\"Sub_64_64.csv\",index=False)"
   ]
  },
  {
   "cell_type": "code",
   "execution_count": 59,
   "metadata": {
    "collapsed": true
   },
   "outputs": [],
   "source": [
    "df_sub.to_csv(\"Main_submission_file.csv\",index=False)"
   ]
  },
  {
   "cell_type": "code",
   "execution_count": 60,
   "metadata": {
    "collapsed": true
   },
   "outputs": [],
   "source": [
    "from keras.models import model_from_json"
   ]
  },
  {
   "cell_type": "code",
   "execution_count": 61,
   "metadata": {},
   "outputs": [
    {
     "name": "stdout",
     "output_type": "stream",
     "text": [
      "Saved model to disk\n"
     ]
    }
   ],
   "source": [
    "# serialize model to JSON\n",
    "model_json = model.to_json()\n",
    "with open(\"model.json\", \"w\") as json_file:\n",
    "    json_file.write(model_json)\n",
    "# serialize weights to HDF5\n",
    "model.save_weights(\"model_64_64_10E.h5\")\n",
    "print(\"Saved model to disk\")"
   ]
  },
  {
   "cell_type": "code",
   "execution_count": 62,
   "metadata": {
    "collapsed": true
   },
   "outputs": [],
   "source": [
    "sub=pd.read_csv(\"Submission Files/First_submission.csv\")"
   ]
  },
  {
   "cell_type": "code",
   "execution_count": 66,
   "metadata": {},
   "outputs": [
    {
     "data": {
      "text/html": [
       "<div>\n",
       "<style>\n",
       "    .dataframe thead tr:only-child th {\n",
       "        text-align: right;\n",
       "    }\n",
       "\n",
       "    .dataframe thead th {\n",
       "        text-align: left;\n",
       "    }\n",
       "\n",
       "    .dataframe tbody tr th {\n",
       "        vertical-align: top;\n",
       "    }\n",
       "</style>\n",
       "<table border=\"1\" class=\"dataframe\">\n",
       "  <thead>\n",
       "    <tr style=\"text-align: right;\">\n",
       "      <th></th>\n",
       "      <th>Brand</th>\n",
       "      <th>Category</th>\n",
       "      <th>Gender</th>\n",
       "      <th>Color</th>\n",
       "      <th>Link_to_the_image</th>\n",
       "      <th>Sub_category</th>\n",
       "    </tr>\n",
       "  </thead>\n",
       "  <tbody>\n",
       "    <tr>\n",
       "      <th>0</th>\n",
       "      <td>Allen Solly</td>\n",
       "      <td>Tshirts</td>\n",
       "      <td>Men</td>\n",
       "      <td>Red</td>\n",
       "      <td>http://myntra.myntassets.com/assets/images/182...</td>\n",
       "      <td>Solid</td>\n",
       "    </tr>\n",
       "    <tr>\n",
       "      <th>1</th>\n",
       "      <td>Celio</td>\n",
       "      <td>Tshirts</td>\n",
       "      <td>Men</td>\n",
       "      <td>Yellow</td>\n",
       "      <td>http://myntra.myntassets.com/assets/images/109...</td>\n",
       "      <td>Solid</td>\n",
       "    </tr>\n",
       "    <tr>\n",
       "      <th>2</th>\n",
       "      <td>CULT FICTION</td>\n",
       "      <td>Tshirts</td>\n",
       "      <td>Men</td>\n",
       "      <td>Rust</td>\n",
       "      <td>http://myntra.myntassets.com/assets/images/159...</td>\n",
       "      <td>Solid</td>\n",
       "    </tr>\n",
       "    <tr>\n",
       "      <th>3</th>\n",
       "      <td>Antigravity</td>\n",
       "      <td>Tshirts</td>\n",
       "      <td>Women</td>\n",
       "      <td>Blue</td>\n",
       "      <td>http://myntra.myntassets.com/assets/images/185...</td>\n",
       "      <td>Typography</td>\n",
       "    </tr>\n",
       "    <tr>\n",
       "      <th>4</th>\n",
       "      <td>Being Human</td>\n",
       "      <td>Tshirts</td>\n",
       "      <td>Men</td>\n",
       "      <td>Charcoal</td>\n",
       "      <td>http://myntra.myntassets.com/assets/images/100...</td>\n",
       "      <td>Typography</td>\n",
       "    </tr>\n",
       "    <tr>\n",
       "      <th>5</th>\n",
       "      <td>Adamo London</td>\n",
       "      <td>Tshirts</td>\n",
       "      <td>Men</td>\n",
       "      <td>Red</td>\n",
       "      <td>http://myntra.myntassets.com/assets/images/161...</td>\n",
       "      <td>Typography</td>\n",
       "    </tr>\n",
       "    <tr>\n",
       "      <th>6</th>\n",
       "      <td>Aeropostale</td>\n",
       "      <td>Tshirts</td>\n",
       "      <td>Women</td>\n",
       "      <td>White</td>\n",
       "      <td>http://myntra.myntassets.com/assets/images/206...</td>\n",
       "      <td>Typography</td>\n",
       "    </tr>\n",
       "    <tr>\n",
       "      <th>7</th>\n",
       "      <td>ESPRIT</td>\n",
       "      <td>Tshirts</td>\n",
       "      <td>Men</td>\n",
       "      <td>Navy Blue</td>\n",
       "      <td>http://myntra.myntassets.com/assets/images/234...</td>\n",
       "      <td>Solid</td>\n",
       "    </tr>\n",
       "    <tr>\n",
       "      <th>8</th>\n",
       "      <td>2GO</td>\n",
       "      <td>Tshirts</td>\n",
       "      <td>Women</td>\n",
       "      <td>Grey</td>\n",
       "      <td>http://myntra.myntassets.com/assets/images/156...</td>\n",
       "      <td>Solid</td>\n",
       "    </tr>\n",
       "    <tr>\n",
       "      <th>9</th>\n",
       "      <td>American Crew</td>\n",
       "      <td>Tshirts</td>\n",
       "      <td>Men</td>\n",
       "      <td>Grey Melange</td>\n",
       "      <td>http://myntra.myntassets.com/assets/images/128...</td>\n",
       "      <td>Solid</td>\n",
       "    </tr>\n",
       "  </tbody>\n",
       "</table>\n",
       "</div>"
      ],
      "text/plain": [
       "           Brand Category Gender         Color  \\\n",
       "0    Allen Solly  Tshirts    Men           Red   \n",
       "1          Celio  Tshirts    Men        Yellow   \n",
       "2   CULT FICTION  Tshirts    Men          Rust   \n",
       "3    Antigravity  Tshirts  Women          Blue   \n",
       "4    Being Human  Tshirts    Men      Charcoal   \n",
       "5   Adamo London  Tshirts    Men           Red   \n",
       "6    Aeropostale  Tshirts  Women         White   \n",
       "7         ESPRIT  Tshirts    Men     Navy Blue   \n",
       "8            2GO  Tshirts  Women          Grey   \n",
       "9  American Crew  Tshirts    Men  Grey Melange   \n",
       "\n",
       "                                   Link_to_the_image Sub_category  \n",
       "0  http://myntra.myntassets.com/assets/images/182...        Solid  \n",
       "1  http://myntra.myntassets.com/assets/images/109...        Solid  \n",
       "2  http://myntra.myntassets.com/assets/images/159...        Solid  \n",
       "3  http://myntra.myntassets.com/assets/images/185...   Typography  \n",
       "4  http://myntra.myntassets.com/assets/images/100...   Typography  \n",
       "5  http://myntra.myntassets.com/assets/images/161...   Typography  \n",
       "6  http://myntra.myntassets.com/assets/images/206...   Typography  \n",
       "7  http://myntra.myntassets.com/assets/images/234...        Solid  \n",
       "8  http://myntra.myntassets.com/assets/images/156...        Solid  \n",
       "9  http://myntra.myntassets.com/assets/images/128...        Solid  "
      ]
     },
     "execution_count": 66,
     "metadata": {},
     "output_type": "execute_result"
    }
   ],
   "source": [
    "sub.head(10)"
   ]
  },
  {
   "cell_type": "code",
   "execution_count": 65,
   "metadata": {},
   "outputs": [
    {
     "data": {
      "text/html": [
       "<div>\n",
       "<style>\n",
       "    .dataframe thead tr:only-child th {\n",
       "        text-align: right;\n",
       "    }\n",
       "\n",
       "    .dataframe thead th {\n",
       "        text-align: left;\n",
       "    }\n",
       "\n",
       "    .dataframe tbody tr th {\n",
       "        vertical-align: top;\n",
       "    }\n",
       "</style>\n",
       "<table border=\"1\" class=\"dataframe\">\n",
       "  <thead>\n",
       "    <tr style=\"text-align: right;\">\n",
       "      <th></th>\n",
       "      <th>Brand</th>\n",
       "      <th>Category</th>\n",
       "      <th>Gender</th>\n",
       "      <th>Color</th>\n",
       "      <th>Image_Names</th>\n",
       "      <th>Sub_category</th>\n",
       "    </tr>\n",
       "  </thead>\n",
       "  <tbody>\n",
       "    <tr>\n",
       "      <th>0</th>\n",
       "      <td>Allen Solly</td>\n",
       "      <td>Tshirts</td>\n",
       "      <td>Men</td>\n",
       "      <td>Red</td>\n",
       "      <td>0.jpg</td>\n",
       "      <td>Solid</td>\n",
       "    </tr>\n",
       "    <tr>\n",
       "      <th>1</th>\n",
       "      <td>Celio</td>\n",
       "      <td>Tshirts</td>\n",
       "      <td>Men</td>\n",
       "      <td>Yellow</td>\n",
       "      <td>1.jpg</td>\n",
       "      <td>Solid</td>\n",
       "    </tr>\n",
       "    <tr>\n",
       "      <th>2</th>\n",
       "      <td>CULT FICTION</td>\n",
       "      <td>Tshirts</td>\n",
       "      <td>Men</td>\n",
       "      <td>Rust</td>\n",
       "      <td>2.jpg</td>\n",
       "      <td>Solid</td>\n",
       "    </tr>\n",
       "    <tr>\n",
       "      <th>3</th>\n",
       "      <td>Antigravity</td>\n",
       "      <td>Tshirts</td>\n",
       "      <td>Women</td>\n",
       "      <td>Blue</td>\n",
       "      <td>3.jpg</td>\n",
       "      <td>Graphic</td>\n",
       "    </tr>\n",
       "    <tr>\n",
       "      <th>4</th>\n",
       "      <td>Being Human</td>\n",
       "      <td>Tshirts</td>\n",
       "      <td>Men</td>\n",
       "      <td>Charcoal</td>\n",
       "      <td>4.jpg</td>\n",
       "      <td>Graphic</td>\n",
       "    </tr>\n",
       "    <tr>\n",
       "      <th>5</th>\n",
       "      <td>Adamo London</td>\n",
       "      <td>Tshirts</td>\n",
       "      <td>Men</td>\n",
       "      <td>Red</td>\n",
       "      <td>5.jpg</td>\n",
       "      <td>Abstract</td>\n",
       "    </tr>\n",
       "    <tr>\n",
       "      <th>6</th>\n",
       "      <td>Aeropostale</td>\n",
       "      <td>Tshirts</td>\n",
       "      <td>Women</td>\n",
       "      <td>White</td>\n",
       "      <td>6.jpg</td>\n",
       "      <td>Typography</td>\n",
       "    </tr>\n",
       "    <tr>\n",
       "      <th>7</th>\n",
       "      <td>ESPRIT</td>\n",
       "      <td>Tshirts</td>\n",
       "      <td>Men</td>\n",
       "      <td>Navy Blue</td>\n",
       "      <td>7.jpg</td>\n",
       "      <td>Conversational</td>\n",
       "    </tr>\n",
       "    <tr>\n",
       "      <th>8</th>\n",
       "      <td>2GO</td>\n",
       "      <td>Tshirts</td>\n",
       "      <td>Women</td>\n",
       "      <td>Grey</td>\n",
       "      <td>8.jpg</td>\n",
       "      <td>Solid</td>\n",
       "    </tr>\n",
       "    <tr>\n",
       "      <th>9</th>\n",
       "      <td>American Crew</td>\n",
       "      <td>Tshirts</td>\n",
       "      <td>Men</td>\n",
       "      <td>Grey Melange</td>\n",
       "      <td>9.jpg</td>\n",
       "      <td>Solid</td>\n",
       "    </tr>\n",
       "  </tbody>\n",
       "</table>\n",
       "</div>"
      ],
      "text/plain": [
       "           Brand Category Gender         Color Image_Names    Sub_category\n",
       "0    Allen Solly  Tshirts    Men           Red       0.jpg           Solid\n",
       "1          Celio  Tshirts    Men        Yellow       1.jpg           Solid\n",
       "2   CULT FICTION  Tshirts    Men          Rust       2.jpg           Solid\n",
       "3    Antigravity  Tshirts  Women          Blue       3.jpg         Graphic\n",
       "4    Being Human  Tshirts    Men      Charcoal       4.jpg         Graphic\n",
       "5   Adamo London  Tshirts    Men           Red       5.jpg        Abstract\n",
       "6    Aeropostale  Tshirts  Women         White       6.jpg      Typography\n",
       "7         ESPRIT  Tshirts    Men     Navy Blue       7.jpg  Conversational\n",
       "8            2GO  Tshirts  Women          Grey       8.jpg           Solid\n",
       "9  American Crew  Tshirts    Men  Grey Melange       9.jpg           Solid"
      ]
     },
     "execution_count": 65,
     "metadata": {},
     "output_type": "execute_result"
    }
   ],
   "source": [
    "test.head(10)"
   ]
  },
  {
   "cell_type": "markdown",
   "metadata": {},
   "source": [
    "## 128 X 128 Image Training"
   ]
  },
  {
   "cell_type": "code",
   "execution_count": 2,
   "metadata": {
    "collapsed": true
   },
   "outputs": [],
   "source": [
    "import numpy as np\n",
    "import pandas as pd\n",
    "import sklearn\n",
    "import keras\n",
    "import matplotlib.pyplot as plt\n",
    "%matplotlib inline"
   ]
  },
  {
   "cell_type": "code",
   "execution_count": 4,
   "metadata": {
    "collapsed": true
   },
   "outputs": [],
   "source": [
    "train=pd.read_csv(\"Cleaned_Train_Data.csv\")\n",
    "test=pd.read_csv(\"Cleaned_Test_Data.csv\")"
   ]
  },
  {
   "cell_type": "code",
   "execution_count": 5,
   "metadata": {},
   "outputs": [
    {
     "data": {
      "text/html": [
       "<div>\n",
       "<style>\n",
       "    .dataframe thead tr:only-child th {\n",
       "        text-align: right;\n",
       "    }\n",
       "\n",
       "    .dataframe thead th {\n",
       "        text-align: left;\n",
       "    }\n",
       "\n",
       "    .dataframe tbody tr th {\n",
       "        vertical-align: top;\n",
       "    }\n",
       "</style>\n",
       "<table border=\"1\" class=\"dataframe\">\n",
       "  <thead>\n",
       "    <tr style=\"text-align: right;\">\n",
       "      <th></th>\n",
       "      <th>Unnamed: 0</th>\n",
       "      <th>Brand</th>\n",
       "      <th>Category</th>\n",
       "      <th>Gender</th>\n",
       "      <th>Color</th>\n",
       "      <th>Image_Names</th>\n",
       "      <th>Sub_category</th>\n",
       "    </tr>\n",
       "  </thead>\n",
       "  <tbody>\n",
       "    <tr>\n",
       "      <th>0</th>\n",
       "      <td>0_Graphic.jpg</td>\n",
       "      <td>Roadster</td>\n",
       "      <td>Tshirts</td>\n",
       "      <td>Men</td>\n",
       "      <td>Black</td>\n",
       "      <td>0_Graphic.jpg</td>\n",
       "      <td>Graphic</td>\n",
       "    </tr>\n",
       "    <tr>\n",
       "      <th>1</th>\n",
       "      <td>1_Graphic.jpg</td>\n",
       "      <td>Roadster</td>\n",
       "      <td>Tshirts</td>\n",
       "      <td>Men</td>\n",
       "      <td>Black</td>\n",
       "      <td>1_Graphic.jpg</td>\n",
       "      <td>Graphic</td>\n",
       "    </tr>\n",
       "    <tr>\n",
       "      <th>2</th>\n",
       "      <td>2_Biker.jpg</td>\n",
       "      <td>Roadster</td>\n",
       "      <td>Tshirts</td>\n",
       "      <td>Men</td>\n",
       "      <td>Black</td>\n",
       "      <td>2_Biker.jpg</td>\n",
       "      <td>Biker</td>\n",
       "    </tr>\n",
       "    <tr>\n",
       "      <th>3</th>\n",
       "      <td>3_Graphic.jpg</td>\n",
       "      <td>Roadster</td>\n",
       "      <td>Tshirts</td>\n",
       "      <td>Men</td>\n",
       "      <td>Black</td>\n",
       "      <td>3_Graphic.jpg</td>\n",
       "      <td>Graphic</td>\n",
       "    </tr>\n",
       "    <tr>\n",
       "      <th>4</th>\n",
       "      <td>4_Graphic.jpg</td>\n",
       "      <td>Roadster</td>\n",
       "      <td>Tshirts</td>\n",
       "      <td>Men</td>\n",
       "      <td>Black</td>\n",
       "      <td>4_Graphic.jpg</td>\n",
       "      <td>Graphic</td>\n",
       "    </tr>\n",
       "  </tbody>\n",
       "</table>\n",
       "</div>"
      ],
      "text/plain": [
       "      Unnamed: 0     Brand Category Gender  Color    Image_Names Sub_category\n",
       "0  0_Graphic.jpg  Roadster  Tshirts    Men  Black  0_Graphic.jpg      Graphic\n",
       "1  1_Graphic.jpg  Roadster  Tshirts    Men  Black  1_Graphic.jpg      Graphic\n",
       "2    2_Biker.jpg  Roadster  Tshirts    Men  Black    2_Biker.jpg        Biker\n",
       "3  3_Graphic.jpg  Roadster  Tshirts    Men  Black  3_Graphic.jpg      Graphic\n",
       "4  4_Graphic.jpg  Roadster  Tshirts    Men  Black  4_Graphic.jpg      Graphic"
      ]
     },
     "execution_count": 5,
     "metadata": {},
     "output_type": "execute_result"
    }
   ],
   "source": [
    "train.head()"
   ]
  },
  {
   "cell_type": "code",
   "execution_count": 6,
   "metadata": {
    "collapsed": true
   },
   "outputs": [],
   "source": [
    "X_train=np.load(\"Numpy_Saved_Arrays/Train_128_128.npy\")"
   ]
  },
  {
   "cell_type": "code",
   "execution_count": 7,
   "metadata": {
    "collapsed": true
   },
   "outputs": [],
   "source": [
    "X_test=np.load(\"Numpy_Saved_Arrays/Test_128_128.npy\")"
   ]
  },
  {
   "cell_type": "code",
   "execution_count": 8,
   "metadata": {},
   "outputs": [
    {
     "data": {
      "text/plain": [
       "(14952, 128, 128, 3)"
      ]
     },
     "execution_count": 8,
     "metadata": {},
     "output_type": "execute_result"
    }
   ],
   "source": [
    "X_test.shape"
   ]
  },
  {
   "cell_type": "code",
   "execution_count": 9,
   "metadata": {},
   "outputs": [
    {
     "data": {
      "text/plain": [
       "(69897, 128, 128, 3)"
      ]
     },
     "execution_count": 9,
     "metadata": {},
     "output_type": "execute_result"
    }
   ],
   "source": [
    "X_train.shape"
   ]
  },
  {
   "cell_type": "code",
   "execution_count": 10,
   "metadata": {},
   "outputs": [
    {
     "data": {
      "text/html": [
       "<div>\n",
       "<style>\n",
       "    .dataframe thead tr:only-child th {\n",
       "        text-align: right;\n",
       "    }\n",
       "\n",
       "    .dataframe thead th {\n",
       "        text-align: left;\n",
       "    }\n",
       "\n",
       "    .dataframe tbody tr th {\n",
       "        vertical-align: top;\n",
       "    }\n",
       "</style>\n",
       "<table border=\"1\" class=\"dataframe\">\n",
       "  <thead>\n",
       "    <tr style=\"text-align: right;\">\n",
       "      <th></th>\n",
       "      <th>Unnamed: 0</th>\n",
       "      <th>Brand</th>\n",
       "      <th>Category</th>\n",
       "      <th>Gender</th>\n",
       "      <th>Color</th>\n",
       "      <th>Image_Names</th>\n",
       "      <th>Sub_category</th>\n",
       "    </tr>\n",
       "  </thead>\n",
       "  <tbody>\n",
       "    <tr>\n",
       "      <th>0</th>\n",
       "      <td>0_Graphic.jpg</td>\n",
       "      <td>Roadster</td>\n",
       "      <td>Tshirts</td>\n",
       "      <td>Men</td>\n",
       "      <td>Black</td>\n",
       "      <td>0_Graphic.jpg</td>\n",
       "      <td>Graphic</td>\n",
       "    </tr>\n",
       "    <tr>\n",
       "      <th>1</th>\n",
       "      <td>1_Graphic.jpg</td>\n",
       "      <td>Roadster</td>\n",
       "      <td>Tshirts</td>\n",
       "      <td>Men</td>\n",
       "      <td>Black</td>\n",
       "      <td>1_Graphic.jpg</td>\n",
       "      <td>Graphic</td>\n",
       "    </tr>\n",
       "  </tbody>\n",
       "</table>\n",
       "</div>"
      ],
      "text/plain": [
       "      Unnamed: 0     Brand Category Gender  Color    Image_Names Sub_category\n",
       "0  0_Graphic.jpg  Roadster  Tshirts    Men  Black  0_Graphic.jpg      Graphic\n",
       "1  1_Graphic.jpg  Roadster  Tshirts    Men  Black  1_Graphic.jpg      Graphic"
      ]
     },
     "execution_count": 10,
     "metadata": {},
     "output_type": "execute_result"
    }
   ],
   "source": [
    "train.head(2)"
   ]
  },
  {
   "cell_type": "code",
   "execution_count": 13,
   "metadata": {},
   "outputs": [
    {
     "data": {
      "text/plain": [
       "{'Abstract',\n",
       " 'Biker',\n",
       " 'Camouflage',\n",
       " 'Checked',\n",
       " 'Colourblocked',\n",
       " 'Conversational',\n",
       " 'Floral',\n",
       " 'Geometric',\n",
       " 'Graphic',\n",
       " 'Horizontal Stripes',\n",
       " 'Humour and Comic',\n",
       " 'Music',\n",
       " 'People and Places',\n",
       " 'Polka Dots',\n",
       " 'Self Design',\n",
       " 'Solid',\n",
       " 'Sports',\n",
       " 'Sports and Team Jersey',\n",
       " 'Striped',\n",
       " 'Superhero',\n",
       " 'Tie and Dye',\n",
       " 'Tribal',\n",
       " 'Typography',\n",
       " 'Varsity'}"
      ]
     },
     "execution_count": 13,
     "metadata": {},
     "output_type": "execute_result"
    }
   ],
   "source": [
    "set(train['Sub_category'].values)"
   ]
  },
  {
   "cell_type": "code",
   "execution_count": 16,
   "metadata": {
    "collapsed": true
   },
   "outputs": [],
   "source": [
    "class_list=train['Sub_category'].tolist()"
   ]
  },
  {
   "cell_type": "code",
   "execution_count": 18,
   "metadata": {
    "collapsed": true
   },
   "outputs": [],
   "source": [
    "Y_train={k:v+1 for v,k in enumerate(set(class_list))}"
   ]
  },
  {
   "cell_type": "code",
   "execution_count": 19,
   "metadata": {
    "collapsed": true
   },
   "outputs": [],
   "source": [
    "y_train = [Y_train[k] for k in class_list]"
   ]
  },
  {
   "cell_type": "code",
   "execution_count": 20,
   "metadata": {
    "collapsed": true
   },
   "outputs": [],
   "source": [
    "from keras.models import Sequential\n",
    "from keras.layers import Dense, Dropout, Flatten, Convolution2D, MaxPooling2D\n",
    "from keras.callbacks import EarlyStopping\n",
    "from keras.utils import to_categorical"
   ]
  },
  {
   "cell_type": "code",
   "execution_count": 21,
   "metadata": {
    "collapsed": true
   },
   "outputs": [],
   "source": [
    "y_train=to_categorical(y_train)"
   ]
  },
  {
   "cell_type": "code",
   "execution_count": 22,
   "metadata": {},
   "outputs": [
    {
     "name": "stdout",
     "output_type": "stream",
     "text": [
      "WARNING:tensorflow:From /home/met/ug/14145059/anaconda3/envs/deeplearning/lib/python3.6/site-packages/keras/backend/tensorflow_backend.py:1264: calling reduce_prod (from tensorflow.python.ops.math_ops) with keep_dims is deprecated and will be removed in a future version.\n",
      "Instructions for updating:\n",
      "keep_dims is deprecated, use keepdims instead\n",
      "WARNING:tensorflow:From /home/met/ug/14145059/anaconda3/envs/deeplearning/lib/python3.6/site-packages/keras/backend/tensorflow_backend.py:2885: calling reduce_sum (from tensorflow.python.ops.math_ops) with keep_dims is deprecated and will be removed in a future version.\n",
      "Instructions for updating:\n",
      "keep_dims is deprecated, use keepdims instead\n",
      "WARNING:tensorflow:From /home/met/ug/14145059/anaconda3/envs/deeplearning/lib/python3.6/site-packages/keras/backend/tensorflow_backend.py:1349: calling reduce_mean (from tensorflow.python.ops.math_ops) with keep_dims is deprecated and will be removed in a future version.\n",
      "Instructions for updating:\n",
      "keep_dims is deprecated, use keepdims instead\n"
     ]
    }
   ],
   "source": [
    "model = Sequential()\n",
    "model.add(Convolution2D(32, (3,3), activation='relu', padding='same',input_shape = (128,128,3))) # if you resize the image above, change the shape\n",
    "model.add(Convolution2D(32, (3,3), activation='relu'))\n",
    "model.add(MaxPooling2D(pool_size=(2,2)))\n",
    "\n",
    "model.add(Convolution2D(64, (3,3), activation='relu', padding='same'))\n",
    "model.add(Convolution2D(64, (3,3), activation='relu'))\n",
    "model.add(MaxPooling2D(pool_size=(2,2)))\n",
    "model.add(Dropout(0.25))\n",
    "\n",
    "model.add(Convolution2D(128, (3,3), activation='relu', padding='same'))\n",
    "model.add(Convolution2D(128, (3,3), activation='relu'))\n",
    "model.add(MaxPooling2D(pool_size=(2,2)))\n",
    "model.add(Dropout(0.25))\n",
    "\n",
    "model.add(Flatten())\n",
    "model.add(Dense(128, activation='relu'))\n",
    "model.add(Dense(256, activation='relu'))\n",
    "model.add(Dropout(0.25))\n",
    "model.add(Dense(y_train.shape[1], activation='softmax'))\n",
    "model.compile(loss = 'categorical_crossentropy', optimizer = 'adam', metrics = ['accuracy'])"
   ]
  },
  {
   "cell_type": "code",
   "execution_count": 23,
   "metadata": {
    "collapsed": true
   },
   "outputs": [],
   "source": [
    "early_stops = EarlyStopping(patience=3, monitor='val_acc')"
   ]
  },
  {
   "cell_type": "code",
   "execution_count": null,
   "metadata": {},
   "outputs": [
    {
     "name": "stdout",
     "output_type": "stream",
     "text": [
      "Train on 48927 samples, validate on 20970 samples\n",
      "Epoch 1/10\n",
      "48927/48927 [==============================] - 2900s 59ms/step - loss: 1.7769 - acc: 0.5079 - val_loss: 1.5771 - val_acc: 0.5526\n",
      "Epoch 2/10\n",
      "48927/48927 [==============================] - 2141s 44ms/step - loss: 1.4485 - acc: 0.5956 - val_loss: 1.5416 - val_acc: 0.5588\n",
      "Epoch 3/10\n",
      "48927/48927 [==============================] - 2478s 51ms/step - loss: 1.3426 - acc: 0.6158 - val_loss: 1.5076 - val_acc: 0.5661\n",
      "Epoch 4/10\n",
      "48927/48927 [==============================] - 3020s 62ms/step - loss: 1.2628 - acc: 0.6382 - val_loss: 1.4647 - val_acc: 0.5745\n",
      "Epoch 5/10\n",
      "48927/48927 [==============================] - 4881s 100ms/step - loss: 1.1952 - acc: 0.6541 - val_loss: 1.4854 - val_acc: 0.5800\n",
      "Epoch 6/10\n",
      " 2000/48927 [>.............................] - ETA: 1:23:14 - loss: 1.0748 - acc: 0.6780"
     ]
    }
   ],
   "source": [
    "model.fit(X_train, y_train, batch_size=100, epochs=10, validation_split=0.3, callbacks=[early_stops])"
   ]
  },
  {
   "cell_type": "markdown",
   "metadata": {},
   "source": [
    "## 30 th March"
   ]
  },
  {
   "cell_type": "code",
   "execution_count": 1,
   "metadata": {},
   "outputs": [
    {
     "name": "stderr",
     "output_type": "stream",
     "text": [
      "Using TensorFlow backend.\n"
     ]
    }
   ],
   "source": [
    "import numpy as np\n",
    "import pandas as pd\n",
    "import keras"
   ]
  },
  {
   "cell_type": "code",
   "execution_count": null,
   "metadata": {
    "collapsed": true
   },
   "outputs": [],
   "source": [
    "np.save"
   ]
  }
 ],
 "metadata": {
  "kernelspec": {
   "display_name": "Python 3",
   "language": "python",
   "name": "python3"
  },
  "language_info": {
   "codemirror_mode": {
    "name": "ipython",
    "version": 3
   },
   "file_extension": ".py",
   "mimetype": "text/x-python",
   "name": "python",
   "nbconvert_exporter": "python",
   "pygments_lexer": "ipython3",
   "version": "3.6.3"
  }
 },
 "nbformat": 4,
 "nbformat_minor": 2
}
