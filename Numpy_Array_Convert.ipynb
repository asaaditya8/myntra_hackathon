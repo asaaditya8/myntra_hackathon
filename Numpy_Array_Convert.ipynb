{
 "cells": [
  {
   "cell_type": "code",
   "execution_count": 1,
   "metadata": {},
   "outputs": [],
   "source": [
    "import numpy as np\n",
    "import pandas as pd\n",
    "import sklearn\n"
   ]
  },
  {
   "cell_type": "code",
   "execution_count": 2,
   "metadata": {},
   "outputs": [],
   "source": [
    "test=pd.read_csv(\"Data/myntra_test.csv\")\n",
    "sub=pd.read_csv(\"Data/Submission_online.csv\")\n",
    "df_sub=pd.read_csv(\"Main_submission_file.csv\")"
   ]
  },
  {
   "cell_type": "code",
   "execution_count": 3,
   "metadata": {},
   "outputs": [
    {
     "data": {
      "text/html": [
       "<div>\n",
       "<style>\n",
       "    .dataframe thead tr:only-child th {\n",
       "        text-align: right;\n",
       "    }\n",
       "\n",
       "    .dataframe thead th {\n",
       "        text-align: left;\n",
       "    }\n",
       "\n",
       "    .dataframe tbody tr th {\n",
       "        vertical-align: top;\n",
       "    }\n",
       "</style>\n",
       "<table border=\"1\" class=\"dataframe\">\n",
       "  <thead>\n",
       "    <tr style=\"text-align: right;\">\n",
       "      <th></th>\n",
       "      <th>Brand</th>\n",
       "      <th>Image_Names</th>\n",
       "      <th>Label</th>\n",
       "    </tr>\n",
       "  </thead>\n",
       "  <tbody>\n",
       "    <tr>\n",
       "      <th>0</th>\n",
       "      <td>Allen Solly</td>\n",
       "      <td>0.jpg</td>\n",
       "      <td>Solid</td>\n",
       "    </tr>\n",
       "    <tr>\n",
       "      <th>1</th>\n",
       "      <td>Celio</td>\n",
       "      <td>1.jpg</td>\n",
       "      <td>Solid</td>\n",
       "    </tr>\n",
       "    <tr>\n",
       "      <th>2</th>\n",
       "      <td>CULT FICTION</td>\n",
       "      <td>2.jpg</td>\n",
       "      <td>Solid</td>\n",
       "    </tr>\n",
       "    <tr>\n",
       "      <th>3</th>\n",
       "      <td>Antigravity</td>\n",
       "      <td>3.jpg</td>\n",
       "      <td>Graphic</td>\n",
       "    </tr>\n",
       "    <tr>\n",
       "      <th>4</th>\n",
       "      <td>Being Human</td>\n",
       "      <td>4.jpg</td>\n",
       "      <td>Graphic</td>\n",
       "    </tr>\n",
       "  </tbody>\n",
       "</table>\n",
       "</div>"
      ],
      "text/plain": [
       "          Brand Image_Names    Label\n",
       "0   Allen Solly       0.jpg    Solid\n",
       "1         Celio       1.jpg    Solid\n",
       "2  CULT FICTION       2.jpg    Solid\n",
       "3   Antigravity       3.jpg  Graphic\n",
       "4   Being Human       4.jpg  Graphic"
      ]
     },
     "execution_count": 3,
     "metadata": {},
     "output_type": "execute_result"
    }
   ],
   "source": [
    "df_sub.head()"
   ]
  },
  {
   "cell_type": "code",
   "execution_count": 4,
   "metadata": {},
   "outputs": [
    {
     "data": {
      "text/plain": [
       "(14952, 3)"
      ]
     },
     "execution_count": 4,
     "metadata": {},
     "output_type": "execute_result"
    }
   ],
   "source": [
    "df_sub.shape"
   ]
  },
  {
   "cell_type": "code",
   "execution_count": 5,
   "metadata": {},
   "outputs": [],
   "source": [
    "import os"
   ]
  },
  {
   "cell_type": "code",
   "execution_count": 6,
   "metadata": {},
   "outputs": [],
   "source": [
    "img_names=os.listdir(\"Test_Data/Test/\")"
   ]
  },
  {
   "cell_type": "code",
   "execution_count": 7,
   "metadata": {},
   "outputs": [
    {
     "data": {
      "text/plain": [
       "14952"
      ]
     },
     "execution_count": 7,
     "metadata": {},
     "output_type": "execute_result"
    }
   ],
   "source": [
    "len(img_names)"
   ]
  },
  {
   "cell_type": "code",
   "execution_count": 8,
   "metadata": {},
   "outputs": [],
   "source": [
    "from tqdm import tqdm"
   ]
  },
  {
   "cell_type": "code",
   "execution_count": 9,
   "metadata": {},
   "outputs": [],
   "source": [
    "im_names=[]\n",
    "for i in range(len(test)):\n",
    "    im_names.append(str(i)+\".jpg\")"
   ]
  },
  {
   "cell_type": "code",
   "execution_count": 10,
   "metadata": {},
   "outputs": [],
   "source": [
    "test.index=im_names"
   ]
  },
  {
   "cell_type": "code",
   "execution_count": 11,
   "metadata": {},
   "outputs": [],
   "source": [
    "test.drop(list(set(im_names).difference(set(img_names))),inplace=True)"
   ]
  },
  {
   "cell_type": "code",
   "execution_count": 16,
   "metadata": {},
   "outputs": [],
   "source": [
    "test.reset_index(drop=False,inplace=True)"
   ]
  },
  {
   "cell_type": "code",
   "execution_count": 12,
   "metadata": {},
   "outputs": [],
   "source": [
    "pred_label=df_sub[\"Label\"]"
   ]
  },
  {
   "cell_type": "code",
   "execution_count": 17,
   "metadata": {},
   "outputs": [],
   "source": [
    "test['Sub_category']=pred_label"
   ]
  },
  {
   "cell_type": "code",
   "execution_count": 14,
   "metadata": {},
   "outputs": [
    {
     "data": {
      "text/plain": [
       "(14952, 6)"
      ]
     },
     "execution_count": 14,
     "metadata": {},
     "output_type": "execute_result"
    }
   ],
   "source": [
    "test.shape"
   ]
  },
  {
   "cell_type": "code",
   "execution_count": 20,
   "metadata": {},
   "outputs": [
    {
     "data": {
      "text/html": [
       "<div>\n",
       "<style>\n",
       "    .dataframe thead tr:only-child th {\n",
       "        text-align: right;\n",
       "    }\n",
       "\n",
       "    .dataframe thead th {\n",
       "        text-align: left;\n",
       "    }\n",
       "\n",
       "    .dataframe tbody tr th {\n",
       "        vertical-align: top;\n",
       "    }\n",
       "</style>\n",
       "<table border=\"1\" class=\"dataframe\">\n",
       "  <thead>\n",
       "    <tr style=\"text-align: right;\">\n",
       "      <th></th>\n",
       "      <th>index</th>\n",
       "      <th>Brand</th>\n",
       "      <th>Category</th>\n",
       "      <th>Gender</th>\n",
       "      <th>Color</th>\n",
       "      <th>Link_to_the_image</th>\n",
       "      <th>Sub_category</th>\n",
       "    </tr>\n",
       "  </thead>\n",
       "  <tbody>\n",
       "    <tr>\n",
       "      <th>4266.jpg</th>\n",
       "      <td>0.jpg</td>\n",
       "      <td>Allen Solly</td>\n",
       "      <td>Tshirts</td>\n",
       "      <td>Men</td>\n",
       "      <td>Red</td>\n",
       "      <td>http://myntra.myntassets.com/assets/images/182...</td>\n",
       "      <td>Solid</td>\n",
       "    </tr>\n",
       "    <tr>\n",
       "      <th>5755.jpg</th>\n",
       "      <td>1.jpg</td>\n",
       "      <td>Celio</td>\n",
       "      <td>Tshirts</td>\n",
       "      <td>Men</td>\n",
       "      <td>Yellow</td>\n",
       "      <td>http://myntra.myntassets.com/assets/images/109...</td>\n",
       "      <td>Solid</td>\n",
       "    </tr>\n",
       "    <tr>\n",
       "      <th>6197.jpg</th>\n",
       "      <td>2.jpg</td>\n",
       "      <td>CULT FICTION</td>\n",
       "      <td>Tshirts</td>\n",
       "      <td>Men</td>\n",
       "      <td>Rust</td>\n",
       "      <td>http://myntra.myntassets.com/assets/images/159...</td>\n",
       "      <td>Solid</td>\n",
       "    </tr>\n",
       "    <tr>\n",
       "      <th>1756.jpg</th>\n",
       "      <td>3.jpg</td>\n",
       "      <td>Antigravity</td>\n",
       "      <td>Tshirts</td>\n",
       "      <td>Women</td>\n",
       "      <td>Blue</td>\n",
       "      <td>http://myntra.myntassets.com/assets/images/185...</td>\n",
       "      <td>Graphic</td>\n",
       "    </tr>\n",
       "    <tr>\n",
       "      <th>337.jpg</th>\n",
       "      <td>4.jpg</td>\n",
       "      <td>Being Human</td>\n",
       "      <td>Tshirts</td>\n",
       "      <td>Men</td>\n",
       "      <td>Charcoal</td>\n",
       "      <td>http://myntra.myntassets.com/assets/images/100...</td>\n",
       "      <td>Graphic</td>\n",
       "    </tr>\n",
       "  </tbody>\n",
       "</table>\n",
       "</div>"
      ],
      "text/plain": [
       "          index         Brand Category Gender     Color  \\\n",
       "4266.jpg  0.jpg   Allen Solly  Tshirts    Men       Red   \n",
       "5755.jpg  1.jpg         Celio  Tshirts    Men    Yellow   \n",
       "6197.jpg  2.jpg  CULT FICTION  Tshirts    Men      Rust   \n",
       "1756.jpg  3.jpg   Antigravity  Tshirts  Women      Blue   \n",
       "337.jpg   4.jpg   Being Human  Tshirts    Men  Charcoal   \n",
       "\n",
       "                                          Link_to_the_image Sub_category  \n",
       "4266.jpg  http://myntra.myntassets.com/assets/images/182...        Solid  \n",
       "5755.jpg  http://myntra.myntassets.com/assets/images/109...        Solid  \n",
       "6197.jpg  http://myntra.myntassets.com/assets/images/159...        Solid  \n",
       "1756.jpg  http://myntra.myntassets.com/assets/images/185...      Graphic  \n",
       "337.jpg   http://myntra.myntassets.com/assets/images/100...      Graphic  "
      ]
     },
     "execution_count": 20,
     "metadata": {},
     "output_type": "execute_result"
    }
   ],
   "source": [
    "test.head()"
   ]
  },
  {
   "cell_type": "code",
   "execution_count": 19,
   "metadata": {},
   "outputs": [],
   "source": [
    "test.index=img_names"
   ]
  },
  {
   "cell_type": "code",
   "execution_count": 21,
   "metadata": {},
   "outputs": [],
   "source": [
    "test.reset_index(drop=True,inplace=True)"
   ]
  },
  {
   "cell_type": "code",
   "execution_count": null,
   "metadata": {},
   "outputs": [],
   "source": []
  },
  {
   "cell_type": "code",
   "execution_count": 22,
   "metadata": {},
   "outputs": [
    {
     "data": {
      "text/html": [
       "<div>\n",
       "<style>\n",
       "    .dataframe thead tr:only-child th {\n",
       "        text-align: right;\n",
       "    }\n",
       "\n",
       "    .dataframe thead th {\n",
       "        text-align: left;\n",
       "    }\n",
       "\n",
       "    .dataframe tbody tr th {\n",
       "        vertical-align: top;\n",
       "    }\n",
       "</style>\n",
       "<table border=\"1\" class=\"dataframe\">\n",
       "  <thead>\n",
       "    <tr style=\"text-align: right;\">\n",
       "      <th></th>\n",
       "      <th>Brand</th>\n",
       "      <th>Category</th>\n",
       "      <th>Gender</th>\n",
       "      <th>Color</th>\n",
       "      <th>Link_to_the_image</th>\n",
       "      <th>Sub_category</th>\n",
       "    </tr>\n",
       "  </thead>\n",
       "  <tbody>\n",
       "    <tr>\n",
       "      <th>0</th>\n",
       "      <td>Allen Solly</td>\n",
       "      <td>Tshirts</td>\n",
       "      <td>Men</td>\n",
       "      <td>Red</td>\n",
       "      <td>http://myntra.myntassets.com/assets/images/182...</td>\n",
       "      <td>NaN</td>\n",
       "    </tr>\n",
       "    <tr>\n",
       "      <th>1</th>\n",
       "      <td>Celio</td>\n",
       "      <td>Tshirts</td>\n",
       "      <td>Men</td>\n",
       "      <td>Yellow</td>\n",
       "      <td>http://myntra.myntassets.com/assets/images/109...</td>\n",
       "      <td>NaN</td>\n",
       "    </tr>\n",
       "  </tbody>\n",
       "</table>\n",
       "</div>"
      ],
      "text/plain": [
       "         Brand Category Gender   Color  \\\n",
       "0  Allen Solly  Tshirts    Men     Red   \n",
       "1        Celio  Tshirts    Men  Yellow   \n",
       "\n",
       "                                   Link_to_the_image  Sub_category  \n",
       "0  http://myntra.myntassets.com/assets/images/182...           NaN  \n",
       "1  http://myntra.myntassets.com/assets/images/109...           NaN  "
      ]
     },
     "execution_count": 22,
     "metadata": {},
     "output_type": "execute_result"
    }
   ],
   "source": [
    "sub.head(2)"
   ]
  },
  {
   "cell_type": "code",
   "execution_count": 23,
   "metadata": {},
   "outputs": [
    {
     "data": {
      "text/html": [
       "<div>\n",
       "<style>\n",
       "    .dataframe thead tr:only-child th {\n",
       "        text-align: right;\n",
       "    }\n",
       "\n",
       "    .dataframe thead th {\n",
       "        text-align: left;\n",
       "    }\n",
       "\n",
       "    .dataframe tbody tr th {\n",
       "        vertical-align: top;\n",
       "    }\n",
       "</style>\n",
       "<table border=\"1\" class=\"dataframe\">\n",
       "  <thead>\n",
       "    <tr style=\"text-align: right;\">\n",
       "      <th></th>\n",
       "      <th>index</th>\n",
       "      <th>Brand</th>\n",
       "      <th>Category</th>\n",
       "      <th>Gender</th>\n",
       "      <th>Color</th>\n",
       "      <th>Link_to_the_image</th>\n",
       "      <th>Sub_category</th>\n",
       "    </tr>\n",
       "  </thead>\n",
       "  <tbody>\n",
       "    <tr>\n",
       "      <th>0</th>\n",
       "      <td>0.jpg</td>\n",
       "      <td>Allen Solly</td>\n",
       "      <td>Tshirts</td>\n",
       "      <td>Men</td>\n",
       "      <td>Red</td>\n",
       "      <td>http://myntra.myntassets.com/assets/images/182...</td>\n",
       "      <td>Solid</td>\n",
       "    </tr>\n",
       "    <tr>\n",
       "      <th>1</th>\n",
       "      <td>1.jpg</td>\n",
       "      <td>Celio</td>\n",
       "      <td>Tshirts</td>\n",
       "      <td>Men</td>\n",
       "      <td>Yellow</td>\n",
       "      <td>http://myntra.myntassets.com/assets/images/109...</td>\n",
       "      <td>Solid</td>\n",
       "    </tr>\n",
       "  </tbody>\n",
       "</table>\n",
       "</div>"
      ],
      "text/plain": [
       "   index        Brand Category Gender   Color  \\\n",
       "0  0.jpg  Allen Solly  Tshirts    Men     Red   \n",
       "1  1.jpg        Celio  Tshirts    Men  Yellow   \n",
       "\n",
       "                                   Link_to_the_image Sub_category  \n",
       "0  http://myntra.myntassets.com/assets/images/182...        Solid  \n",
       "1  http://myntra.myntassets.com/assets/images/109...        Solid  "
      ]
     },
     "execution_count": 23,
     "metadata": {},
     "output_type": "execute_result"
    }
   ],
   "source": [
    "test.head(2)"
   ]
  },
  {
   "cell_type": "code",
   "execution_count": 24,
   "metadata": {},
   "outputs": [
    {
     "data": {
      "text/plain": [
       "(14952, 7)"
      ]
     },
     "execution_count": 24,
     "metadata": {},
     "output_type": "execute_result"
    }
   ],
   "source": [
    "test.shape"
   ]
  },
  {
   "cell_type": "code",
   "execution_count": 25,
   "metadata": {},
   "outputs": [],
   "source": [
    "sub.index=im_names"
   ]
  },
  {
   "cell_type": "code",
   "execution_count": 28,
   "metadata": {},
   "outputs": [],
   "source": [
    "sub.reset_index(inplace=True)"
   ]
  },
  {
   "cell_type": "code",
   "execution_count": 29,
   "metadata": {},
   "outputs": [
    {
     "data": {
      "text/html": [
       "<div>\n",
       "<style>\n",
       "    .dataframe thead tr:only-child th {\n",
       "        text-align: right;\n",
       "    }\n",
       "\n",
       "    .dataframe thead th {\n",
       "        text-align: left;\n",
       "    }\n",
       "\n",
       "    .dataframe tbody tr th {\n",
       "        vertical-align: top;\n",
       "    }\n",
       "</style>\n",
       "<table border=\"1\" class=\"dataframe\">\n",
       "  <thead>\n",
       "    <tr style=\"text-align: right;\">\n",
       "      <th></th>\n",
       "      <th>index</th>\n",
       "      <th>Brand</th>\n",
       "      <th>Category</th>\n",
       "      <th>Gender</th>\n",
       "      <th>Color</th>\n",
       "      <th>Link_to_the_image</th>\n",
       "      <th>Sub_category</th>\n",
       "    </tr>\n",
       "  </thead>\n",
       "  <tbody>\n",
       "    <tr>\n",
       "      <th>0</th>\n",
       "      <td>0.jpg</td>\n",
       "      <td>Allen Solly</td>\n",
       "      <td>Tshirts</td>\n",
       "      <td>Men</td>\n",
       "      <td>Red</td>\n",
       "      <td>http://myntra.myntassets.com/assets/images/182...</td>\n",
       "      <td>NaN</td>\n",
       "    </tr>\n",
       "    <tr>\n",
       "      <th>1</th>\n",
       "      <td>1.jpg</td>\n",
       "      <td>Celio</td>\n",
       "      <td>Tshirts</td>\n",
       "      <td>Men</td>\n",
       "      <td>Yellow</td>\n",
       "      <td>http://myntra.myntassets.com/assets/images/109...</td>\n",
       "      <td>NaN</td>\n",
       "    </tr>\n",
       "  </tbody>\n",
       "</table>\n",
       "</div>"
      ],
      "text/plain": [
       "   index        Brand Category Gender   Color  \\\n",
       "0  0.jpg  Allen Solly  Tshirts    Men     Red   \n",
       "1  1.jpg        Celio  Tshirts    Men  Yellow   \n",
       "\n",
       "                                   Link_to_the_image  Sub_category  \n",
       "0  http://myntra.myntassets.com/assets/images/182...           NaN  \n",
       "1  http://myntra.myntassets.com/assets/images/109...           NaN  "
      ]
     },
     "execution_count": 29,
     "metadata": {},
     "output_type": "execute_result"
    }
   ],
   "source": [
    "sub.head(2)"
   ]
  },
  {
   "cell_type": "code",
   "execution_count": 30,
   "metadata": {},
   "outputs": [
    {
     "data": {
      "text/html": [
       "<div>\n",
       "<style>\n",
       "    .dataframe thead tr:only-child th {\n",
       "        text-align: right;\n",
       "    }\n",
       "\n",
       "    .dataframe thead th {\n",
       "        text-align: left;\n",
       "    }\n",
       "\n",
       "    .dataframe tbody tr th {\n",
       "        vertical-align: top;\n",
       "    }\n",
       "</style>\n",
       "<table border=\"1\" class=\"dataframe\">\n",
       "  <thead>\n",
       "    <tr style=\"text-align: right;\">\n",
       "      <th></th>\n",
       "      <th>index</th>\n",
       "      <th>Brand</th>\n",
       "      <th>Category</th>\n",
       "      <th>Gender</th>\n",
       "      <th>Color</th>\n",
       "      <th>Link_to_the_image</th>\n",
       "      <th>Sub_category</th>\n",
       "    </tr>\n",
       "  </thead>\n",
       "  <tbody>\n",
       "    <tr>\n",
       "      <th>0</th>\n",
       "      <td>0.jpg</td>\n",
       "      <td>Allen Solly</td>\n",
       "      <td>Tshirts</td>\n",
       "      <td>Men</td>\n",
       "      <td>Red</td>\n",
       "      <td>http://myntra.myntassets.com/assets/images/182...</td>\n",
       "      <td>Solid</td>\n",
       "    </tr>\n",
       "    <tr>\n",
       "      <th>1</th>\n",
       "      <td>1.jpg</td>\n",
       "      <td>Celio</td>\n",
       "      <td>Tshirts</td>\n",
       "      <td>Men</td>\n",
       "      <td>Yellow</td>\n",
       "      <td>http://myntra.myntassets.com/assets/images/109...</td>\n",
       "      <td>Solid</td>\n",
       "    </tr>\n",
       "  </tbody>\n",
       "</table>\n",
       "</div>"
      ],
      "text/plain": [
       "   index        Brand Category Gender   Color  \\\n",
       "0  0.jpg  Allen Solly  Tshirts    Men     Red   \n",
       "1  1.jpg        Celio  Tshirts    Men  Yellow   \n",
       "\n",
       "                                   Link_to_the_image Sub_category  \n",
       "0  http://myntra.myntassets.com/assets/images/182...        Solid  \n",
       "1  http://myntra.myntassets.com/assets/images/109...        Solid  "
      ]
     },
     "execution_count": 30,
     "metadata": {},
     "output_type": "execute_result"
    }
   ],
   "source": [
    "test.head(2)"
   ]
  },
  {
   "cell_type": "code",
   "execution_count": 53,
   "metadata": {},
   "outputs": [],
   "source": [
    "sub_2=sub.merge(test,on=['index','Brand','Category','Gender','Color','Link_to_the_image',],how='outer')"
   ]
  },
  {
   "cell_type": "code",
   "execution_count": 54,
   "metadata": {},
   "outputs": [
    {
     "data": {
      "text/html": [
       "<div>\n",
       "<style>\n",
       "    .dataframe thead tr:only-child th {\n",
       "        text-align: right;\n",
       "    }\n",
       "\n",
       "    .dataframe thead th {\n",
       "        text-align: left;\n",
       "    }\n",
       "\n",
       "    .dataframe tbody tr th {\n",
       "        vertical-align: top;\n",
       "    }\n",
       "</style>\n",
       "<table border=\"1\" class=\"dataframe\">\n",
       "  <thead>\n",
       "    <tr style=\"text-align: right;\">\n",
       "      <th></th>\n",
       "      <th>index</th>\n",
       "      <th>Brand</th>\n",
       "      <th>Category</th>\n",
       "      <th>Gender</th>\n",
       "      <th>Color</th>\n",
       "      <th>Link_to_the_image</th>\n",
       "      <th>Sub_category_x</th>\n",
       "      <th>Sub_category_y</th>\n",
       "    </tr>\n",
       "  </thead>\n",
       "  <tbody>\n",
       "    <tr>\n",
       "      <th>0</th>\n",
       "      <td>0.jpg</td>\n",
       "      <td>Allen Solly</td>\n",
       "      <td>Tshirts</td>\n",
       "      <td>Men</td>\n",
       "      <td>Red</td>\n",
       "      <td>http://myntra.myntassets.com/assets/images/182...</td>\n",
       "      <td>NaN</td>\n",
       "      <td>Solid</td>\n",
       "    </tr>\n",
       "    <tr>\n",
       "      <th>1</th>\n",
       "      <td>1.jpg</td>\n",
       "      <td>Celio</td>\n",
       "      <td>Tshirts</td>\n",
       "      <td>Men</td>\n",
       "      <td>Yellow</td>\n",
       "      <td>http://myntra.myntassets.com/assets/images/109...</td>\n",
       "      <td>NaN</td>\n",
       "      <td>Solid</td>\n",
       "    </tr>\n",
       "    <tr>\n",
       "      <th>2</th>\n",
       "      <td>2.jpg</td>\n",
       "      <td>CULT FICTION</td>\n",
       "      <td>Tshirts</td>\n",
       "      <td>Men</td>\n",
       "      <td>Rust</td>\n",
       "      <td>http://myntra.myntassets.com/assets/images/159...</td>\n",
       "      <td>NaN</td>\n",
       "      <td>Solid</td>\n",
       "    </tr>\n",
       "    <tr>\n",
       "      <th>3</th>\n",
       "      <td>3.jpg</td>\n",
       "      <td>Antigravity</td>\n",
       "      <td>Tshirts</td>\n",
       "      <td>Women</td>\n",
       "      <td>Blue</td>\n",
       "      <td>http://myntra.myntassets.com/assets/images/185...</td>\n",
       "      <td>NaN</td>\n",
       "      <td>Graphic</td>\n",
       "    </tr>\n",
       "    <tr>\n",
       "      <th>4</th>\n",
       "      <td>4.jpg</td>\n",
       "      <td>Being Human</td>\n",
       "      <td>Tshirts</td>\n",
       "      <td>Men</td>\n",
       "      <td>Charcoal</td>\n",
       "      <td>http://myntra.myntassets.com/assets/images/100...</td>\n",
       "      <td>NaN</td>\n",
       "      <td>Graphic</td>\n",
       "    </tr>\n",
       "  </tbody>\n",
       "</table>\n",
       "</div>"
      ],
      "text/plain": [
       "   index         Brand Category Gender     Color  \\\n",
       "0  0.jpg   Allen Solly  Tshirts    Men       Red   \n",
       "1  1.jpg         Celio  Tshirts    Men    Yellow   \n",
       "2  2.jpg  CULT FICTION  Tshirts    Men      Rust   \n",
       "3  3.jpg   Antigravity  Tshirts  Women      Blue   \n",
       "4  4.jpg   Being Human  Tshirts    Men  Charcoal   \n",
       "\n",
       "                                   Link_to_the_image  Sub_category_x  \\\n",
       "0  http://myntra.myntassets.com/assets/images/182...             NaN   \n",
       "1  http://myntra.myntassets.com/assets/images/109...             NaN   \n",
       "2  http://myntra.myntassets.com/assets/images/159...             NaN   \n",
       "3  http://myntra.myntassets.com/assets/images/185...             NaN   \n",
       "4  http://myntra.myntassets.com/assets/images/100...             NaN   \n",
       "\n",
       "  Sub_category_y  \n",
       "0          Solid  \n",
       "1          Solid  \n",
       "2          Solid  \n",
       "3        Graphic  \n",
       "4        Graphic  "
      ]
     },
     "execution_count": 54,
     "metadata": {},
     "output_type": "execute_result"
    }
   ],
   "source": [
    "sub_2.head()"
   ]
  },
  {
   "cell_type": "code",
   "execution_count": 56,
   "metadata": {},
   "outputs": [],
   "source": [
    "sub_2.drop(['index','Sub_category_x'],axis=1,inplace=True)"
   ]
  },
  {
   "cell_type": "code",
   "execution_count": 59,
   "metadata": {},
   "outputs": [],
   "source": [
    "sub_2.rename(columns={\"Sub_category_y\":\"Sub_category\"},inplace=True)"
   ]
  },
  {
   "cell_type": "code",
   "execution_count": 62,
   "metadata": {},
   "outputs": [],
   "source": [
    "sub_2[\"Sub_category\"].fillna(\"Solid\",inplace=True)"
   ]
  },
  {
   "cell_type": "code",
   "execution_count": 63,
   "metadata": {},
   "outputs": [],
   "source": [
    "sub_2.to_csv(\"Submit_1_without_null.csv\",index=False)"
   ]
  },
  {
   "cell_type": "markdown",
   "metadata": {},
   "source": [
    "## Numpy_Array_Conversion"
   ]
  },
  {
   "cell_type": "code",
   "execution_count": 64,
   "metadata": {},
   "outputs": [],
   "source": [
    "import numpy as np\n",
    "import pandas as pd\n",
    "import sklearn\n",
    "import os\n",
    "import cv2\n",
    "import matplotlib.pyplot as plt\n",
    "%matplotlib inline"
   ]
  },
  {
   "cell_type": "code",
   "execution_count": 65,
   "metadata": {},
   "outputs": [],
   "source": [
    "train=pd.read_csv(\"Cleaned_Train_Data.csv\")\n",
    "test=pd.read_csv(\"Cleaned_Test_Data.csv\")"
   ]
  },
  {
   "cell_type": "code",
   "execution_count": 66,
   "metadata": {},
   "outputs": [
    {
     "data": {
      "text/plain": [
       "(69897, 7)"
      ]
     },
     "execution_count": 66,
     "metadata": {},
     "output_type": "execute_result"
    }
   ],
   "source": [
    "train.shape"
   ]
  },
  {
   "cell_type": "code",
   "execution_count": 67,
   "metadata": {},
   "outputs": [
    {
     "data": {
      "text/html": [
       "<div>\n",
       "<style>\n",
       "    .dataframe thead tr:only-child th {\n",
       "        text-align: right;\n",
       "    }\n",
       "\n",
       "    .dataframe thead th {\n",
       "        text-align: left;\n",
       "    }\n",
       "\n",
       "    .dataframe tbody tr th {\n",
       "        vertical-align: top;\n",
       "    }\n",
       "</style>\n",
       "<table border=\"1\" class=\"dataframe\">\n",
       "  <thead>\n",
       "    <tr style=\"text-align: right;\">\n",
       "      <th></th>\n",
       "      <th>Unnamed: 0</th>\n",
       "      <th>Brand</th>\n",
       "      <th>Category</th>\n",
       "      <th>Gender</th>\n",
       "      <th>Color</th>\n",
       "      <th>Image_Names</th>\n",
       "      <th>Sub_category</th>\n",
       "    </tr>\n",
       "  </thead>\n",
       "  <tbody>\n",
       "    <tr>\n",
       "      <th>0</th>\n",
       "      <td>0_Graphic.jpg</td>\n",
       "      <td>Roadster</td>\n",
       "      <td>Tshirts</td>\n",
       "      <td>Men</td>\n",
       "      <td>Black</td>\n",
       "      <td>0_Graphic.jpg</td>\n",
       "      <td>Graphic</td>\n",
       "    </tr>\n",
       "    <tr>\n",
       "      <th>1</th>\n",
       "      <td>1_Graphic.jpg</td>\n",
       "      <td>Roadster</td>\n",
       "      <td>Tshirts</td>\n",
       "      <td>Men</td>\n",
       "      <td>Black</td>\n",
       "      <td>1_Graphic.jpg</td>\n",
       "      <td>Graphic</td>\n",
       "    </tr>\n",
       "    <tr>\n",
       "      <th>2</th>\n",
       "      <td>2_Biker.jpg</td>\n",
       "      <td>Roadster</td>\n",
       "      <td>Tshirts</td>\n",
       "      <td>Men</td>\n",
       "      <td>Black</td>\n",
       "      <td>2_Biker.jpg</td>\n",
       "      <td>Biker</td>\n",
       "    </tr>\n",
       "    <tr>\n",
       "      <th>3</th>\n",
       "      <td>3_Graphic.jpg</td>\n",
       "      <td>Roadster</td>\n",
       "      <td>Tshirts</td>\n",
       "      <td>Men</td>\n",
       "      <td>Black</td>\n",
       "      <td>3_Graphic.jpg</td>\n",
       "      <td>Graphic</td>\n",
       "    </tr>\n",
       "    <tr>\n",
       "      <th>4</th>\n",
       "      <td>4_Graphic.jpg</td>\n",
       "      <td>Roadster</td>\n",
       "      <td>Tshirts</td>\n",
       "      <td>Men</td>\n",
       "      <td>Black</td>\n",
       "      <td>4_Graphic.jpg</td>\n",
       "      <td>Graphic</td>\n",
       "    </tr>\n",
       "  </tbody>\n",
       "</table>\n",
       "</div>"
      ],
      "text/plain": [
       "      Unnamed: 0     Brand Category Gender  Color    Image_Names Sub_category\n",
       "0  0_Graphic.jpg  Roadster  Tshirts    Men  Black  0_Graphic.jpg      Graphic\n",
       "1  1_Graphic.jpg  Roadster  Tshirts    Men  Black  1_Graphic.jpg      Graphic\n",
       "2    2_Biker.jpg  Roadster  Tshirts    Men  Black    2_Biker.jpg        Biker\n",
       "3  3_Graphic.jpg  Roadster  Tshirts    Men  Black  3_Graphic.jpg      Graphic\n",
       "4  4_Graphic.jpg  Roadster  Tshirts    Men  Black  4_Graphic.jpg      Graphic"
      ]
     },
     "execution_count": 67,
     "metadata": {},
     "output_type": "execute_result"
    }
   ],
   "source": [
    "train.head()"
   ]
  },
  {
   "cell_type": "code",
   "execution_count": 68,
   "metadata": {},
   "outputs": [
    {
     "data": {
      "text/html": [
       "<div>\n",
       "<style>\n",
       "    .dataframe thead tr:only-child th {\n",
       "        text-align: right;\n",
       "    }\n",
       "\n",
       "    .dataframe thead th {\n",
       "        text-align: left;\n",
       "    }\n",
       "\n",
       "    .dataframe tbody tr th {\n",
       "        vertical-align: top;\n",
       "    }\n",
       "</style>\n",
       "<table border=\"1\" class=\"dataframe\">\n",
       "  <thead>\n",
       "    <tr style=\"text-align: right;\">\n",
       "      <th></th>\n",
       "      <th>Brand</th>\n",
       "      <th>Category</th>\n",
       "      <th>Gender</th>\n",
       "      <th>Color</th>\n",
       "      <th>Image_Names</th>\n",
       "    </tr>\n",
       "  </thead>\n",
       "  <tbody>\n",
       "    <tr>\n",
       "      <th>0</th>\n",
       "      <td>Allen Solly</td>\n",
       "      <td>Tshirts</td>\n",
       "      <td>Men</td>\n",
       "      <td>Red</td>\n",
       "      <td>0.jpg</td>\n",
       "    </tr>\n",
       "    <tr>\n",
       "      <th>1</th>\n",
       "      <td>Celio</td>\n",
       "      <td>Tshirts</td>\n",
       "      <td>Men</td>\n",
       "      <td>Yellow</td>\n",
       "      <td>1.jpg</td>\n",
       "    </tr>\n",
       "    <tr>\n",
       "      <th>2</th>\n",
       "      <td>CULT FICTION</td>\n",
       "      <td>Tshirts</td>\n",
       "      <td>Men</td>\n",
       "      <td>Rust</td>\n",
       "      <td>2.jpg</td>\n",
       "    </tr>\n",
       "    <tr>\n",
       "      <th>3</th>\n",
       "      <td>Antigravity</td>\n",
       "      <td>Tshirts</td>\n",
       "      <td>Women</td>\n",
       "      <td>Blue</td>\n",
       "      <td>3.jpg</td>\n",
       "    </tr>\n",
       "    <tr>\n",
       "      <th>4</th>\n",
       "      <td>Being Human</td>\n",
       "      <td>Tshirts</td>\n",
       "      <td>Men</td>\n",
       "      <td>Charcoal</td>\n",
       "      <td>4.jpg</td>\n",
       "    </tr>\n",
       "  </tbody>\n",
       "</table>\n",
       "</div>"
      ],
      "text/plain": [
       "          Brand Category Gender     Color Image_Names\n",
       "0   Allen Solly  Tshirts    Men       Red       0.jpg\n",
       "1         Celio  Tshirts    Men    Yellow       1.jpg\n",
       "2  CULT FICTION  Tshirts    Men      Rust       2.jpg\n",
       "3   Antigravity  Tshirts  Women      Blue       3.jpg\n",
       "4   Being Human  Tshirts    Men  Charcoal       4.jpg"
      ]
     },
     "execution_count": 68,
     "metadata": {},
     "output_type": "execute_result"
    }
   ],
   "source": [
    "test.head()"
   ]
  },
  {
   "cell_type": "code",
   "execution_count": 69,
   "metadata": {},
   "outputs": [],
   "source": [
    "train=train.iloc[:,1:]"
   ]
  },
  {
   "cell_type": "code",
   "execution_count": 70,
   "metadata": {},
   "outputs": [
    {
     "data": {
      "text/html": [
       "<div>\n",
       "<style>\n",
       "    .dataframe thead tr:only-child th {\n",
       "        text-align: right;\n",
       "    }\n",
       "\n",
       "    .dataframe thead th {\n",
       "        text-align: left;\n",
       "    }\n",
       "\n",
       "    .dataframe tbody tr th {\n",
       "        vertical-align: top;\n",
       "    }\n",
       "</style>\n",
       "<table border=\"1\" class=\"dataframe\">\n",
       "  <thead>\n",
       "    <tr style=\"text-align: right;\">\n",
       "      <th></th>\n",
       "      <th>Brand</th>\n",
       "      <th>Category</th>\n",
       "      <th>Gender</th>\n",
       "      <th>Color</th>\n",
       "      <th>Image_Names</th>\n",
       "      <th>Sub_category</th>\n",
       "    </tr>\n",
       "  </thead>\n",
       "  <tbody>\n",
       "    <tr>\n",
       "      <th>0</th>\n",
       "      <td>Roadster</td>\n",
       "      <td>Tshirts</td>\n",
       "      <td>Men</td>\n",
       "      <td>Black</td>\n",
       "      <td>0_Graphic.jpg</td>\n",
       "      <td>Graphic</td>\n",
       "    </tr>\n",
       "    <tr>\n",
       "      <th>1</th>\n",
       "      <td>Roadster</td>\n",
       "      <td>Tshirts</td>\n",
       "      <td>Men</td>\n",
       "      <td>Black</td>\n",
       "      <td>1_Graphic.jpg</td>\n",
       "      <td>Graphic</td>\n",
       "    </tr>\n",
       "  </tbody>\n",
       "</table>\n",
       "</div>"
      ],
      "text/plain": [
       "      Brand Category Gender  Color    Image_Names Sub_category\n",
       "0  Roadster  Tshirts    Men  Black  0_Graphic.jpg      Graphic\n",
       "1  Roadster  Tshirts    Men  Black  1_Graphic.jpg      Graphic"
      ]
     },
     "execution_count": 70,
     "metadata": {},
     "output_type": "execute_result"
    }
   ],
   "source": [
    "train.head(2)"
   ]
  },
  {
   "cell_type": "code",
   "execution_count": 71,
   "metadata": {},
   "outputs": [],
   "source": [
    "train_img_path=\"Train_Data/Train/\"\n",
    "test_img_path=\"Test_Data/Test/\""
   ]
  },
  {
   "cell_type": "code",
   "execution_count": 73,
   "metadata": {},
   "outputs": [],
   "source": [
    "def img_reader(img_path):\n",
    "    img=cv2.imread(img_path)\n",
    "    img=cv2.resize(img,(128,128))\n",
    "    return(img)"
   ]
  },
  {
   "cell_type": "code",
   "execution_count": 74,
   "metadata": {},
   "outputs": [
    {
     "name": "stderr",
     "output_type": "stream",
     "text": [
      "100%|██████████| 69897/69897 [53:16<00:00, 21.86it/s]\n"
     ]
    }
   ],
   "source": [
    "train_img=[]\n",
    "for img in tqdm(train['Image_Names'].values):\n",
    "    train_img.append(img_reader(train_img_path+img))"
   ]
  },
  {
   "cell_type": "code",
   "execution_count": 75,
   "metadata": {},
   "outputs": [],
   "source": [
    "X_train=np.array(train_img,np.float32)/255.0"
   ]
  },
  {
   "cell_type": "code",
   "execution_count": 76,
   "metadata": {},
   "outputs": [],
   "source": [
    "np.save(\"Train_128_128.npy\",X_train)"
   ]
  },
  {
   "cell_type": "code",
   "execution_count": 77,
   "metadata": {},
   "outputs": [
    {
     "data": {
      "text/plain": [
       "(69897, 128, 128, 3)"
      ]
     },
     "execution_count": 77,
     "metadata": {},
     "output_type": "execute_result"
    }
   ],
   "source": [
    "X_train.shape"
   ]
  },
  {
   "cell_type": "code",
   "execution_count": 78,
   "metadata": {},
   "outputs": [
    {
     "name": "stderr",
     "output_type": "stream",
     "text": [
      "100%|██████████| 14952/14952 [12:15<00:00, 20.32it/s]\n"
     ]
    },
    {
     "data": {
      "text/plain": [
       "(14952, 128, 128, 3)"
      ]
     },
     "execution_count": 78,
     "metadata": {},
     "output_type": "execute_result"
    }
   ],
   "source": [
    "test_img=[]\n",
    "for img in tqdm(test['Image_Names'].values):\n",
    "    test_img.append(img_reader(test_img_path+img))\n",
    "X_test=np.array(test_img,np.float32)/255.0\n",
    "np.save(\"Test_128_128.npy\",X_test)\n",
    "X_test.shape"
   ]
  },
  {
   "cell_type": "code",
   "execution_count": null,
   "metadata": {},
   "outputs": [],
   "source": []
  }
 ],
 "metadata": {
  "kernelspec": {
   "display_name": "Python 3",
   "language": "python",
   "name": "python3"
  },
  "language_info": {
   "codemirror_mode": {
    "name": "ipython",
    "version": 3
   },
   "file_extension": ".py",
   "mimetype": "text/x-python",
   "name": "python",
   "nbconvert_exporter": "python",
   "pygments_lexer": "ipython3",
   "version": "3.6.3"
  }
 },
 "nbformat": 4,
 "nbformat_minor": 2
}
